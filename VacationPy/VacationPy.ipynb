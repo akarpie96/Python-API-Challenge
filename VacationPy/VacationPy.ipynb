{
 "cells": [
  {
   "cell_type": "code",
   "execution_count": 1,
   "metadata": {},
   "outputs": [],
   "source": [
    "# Dependencies and Setup\n",
    "import matplotlib.pyplot as plt\n",
    "import pandas as pd\n",
    "import numpy as np\n",
    "import requests\n",
    "import gmaps\n",
    "import os\n",
    "from api_keys import g_key\n",
    "gmaps.configure(api_key=g_key)"
   ]
  },
  {
   "cell_type": "code",
   "execution_count": 2,
   "metadata": {},
   "outputs": [
    {
     "name": "stderr",
     "output_type": "stream",
     "text": [
      "Enabling notebook extension jupyter-gmaps/extension...\n",
      "      - Validating: ok\n",
      "Enabling notebook extension jupyter-js-widgets/extension...\n",
      "      - Validating: ok\n"
     ]
    },
    {
     "name": "stdout",
     "output_type": "stream",
     "text": [
      "Requirement already satisfied: gmaps in c:\\users\\aaron karpie\\anaconda3\\lib\\site-packages (0.9.0)\n",
      "Requirement already satisfied: ipywidgets>=7.0.0 in c:\\users\\aaron karpie\\anaconda3\\lib\\site-packages (from gmaps) (7.5.1)\n",
      "Requirement already satisfied: traitlets>=4.3.0 in c:\\users\\aaron karpie\\anaconda3\\lib\\site-packages (from gmaps) (5.0.5)\n",
      "Requirement already satisfied: geojson>=2.0.0 in c:\\users\\aaron karpie\\anaconda3\\lib\\site-packages (from gmaps) (2.5.0)\n",
      "Requirement already satisfied: ipython>=5.3.0 in c:\\users\\aaron karpie\\anaconda3\\lib\\site-packages (from gmaps) (7.19.0)\n",
      "Requirement already satisfied: six in c:\\users\\aaron karpie\\anaconda3\\lib\\site-packages (from gmaps) (1.15.0)\n",
      "Requirement already satisfied: jedi>=0.10 in c:\\users\\aaron karpie\\anaconda3\\lib\\site-packages (from ipython>=5.3.0->gmaps) (0.17.1)\n",
      "Requirement already satisfied: pickleshare in c:\\users\\aaron karpie\\anaconda3\\lib\\site-packages (from ipython>=5.3.0->gmaps) (0.7.5)\n",
      "Requirement already satisfied: decorator in c:\\users\\aaron karpie\\anaconda3\\lib\\site-packages (from ipython>=5.3.0->gmaps) (4.4.2)\n",
      "Requirement already satisfied: prompt-toolkit!=3.0.0,!=3.0.1,<3.1.0,>=2.0.0 in c:\\users\\aaron karpie\\anaconda3\\lib\\site-packages (from ipython>=5.3.0->gmaps) (3.0.8)\n",
      "Requirement already satisfied: backcall in c:\\users\\aaron karpie\\anaconda3\\lib\\site-packages (from ipython>=5.3.0->gmaps) (0.2.0)\n",
      "Requirement already satisfied: colorama in c:\\users\\aaron karpie\\anaconda3\\lib\\site-packages (from ipython>=5.3.0->gmaps) (0.4.4)\n",
      "Requirement already satisfied: pygments in c:\\users\\aaron karpie\\anaconda3\\lib\\site-packages (from ipython>=5.3.0->gmaps) (2.7.2)\n",
      "Requirement already satisfied: setuptools>=18.5 in c:\\users\\aaron karpie\\anaconda3\\lib\\site-packages (from ipython>=5.3.0->gmaps) (50.3.1.post20201107)\n",
      "Requirement already satisfied: nbformat>=4.2.0 in c:\\users\\aaron karpie\\anaconda3\\lib\\site-packages (from ipywidgets>=7.0.0->gmaps) (5.0.8)\n",
      "Requirement already satisfied: ipykernel>=4.5.1 in c:\\users\\aaron karpie\\anaconda3\\lib\\site-packages (from ipywidgets>=7.0.0->gmaps) (5.3.4)\n",
      "Requirement already satisfied: widgetsnbextension~=3.5.0 in c:\\users\\aaron karpie\\anaconda3\\lib\\site-packages (from ipywidgets>=7.0.0->gmaps) (3.5.1)\n",
      "Requirement already satisfied: jupyter-client in c:\\users\\aaron karpie\\anaconda3\\lib\\site-packages (from ipykernel>=4.5.1->ipywidgets>=7.0.0->gmaps) (6.1.7)\n",
      "Requirement already satisfied: tornado>=4.2 in c:\\users\\aaron karpie\\anaconda3\\lib\\site-packages (from ipykernel>=4.5.1->ipywidgets>=7.0.0->gmaps) (6.0.4)\n",
      "Requirement already satisfied: parso<0.8.0,>=0.7.0 in c:\\users\\aaron karpie\\anaconda3\\lib\\site-packages (from jedi>=0.10->ipython>=5.3.0->gmaps) (0.7.0)\n",
      "Requirement already satisfied: jsonschema!=2.5.0,>=2.4 in c:\\users\\aaron karpie\\anaconda3\\lib\\site-packages (from nbformat>=4.2.0->ipywidgets>=7.0.0->gmaps) (3.2.0)\n",
      "Requirement already satisfied: jupyter-core in c:\\users\\aaron karpie\\anaconda3\\lib\\site-packages (from nbformat>=4.2.0->ipywidgets>=7.0.0->gmaps) (4.6.3)\n",
      "Requirement already satisfied: ipython-genutils in c:\\users\\aaron karpie\\anaconda3\\lib\\site-packages (from nbformat>=4.2.0->ipywidgets>=7.0.0->gmaps) (0.2.0)\n",
      "Requirement already satisfied: attrs>=17.4.0 in c:\\users\\aaron karpie\\anaconda3\\lib\\site-packages (from jsonschema!=2.5.0,>=2.4->nbformat>=4.2.0->ipywidgets>=7.0.0->gmaps) (20.3.0)\n",
      "Requirement already satisfied: pyrsistent>=0.14.0 in c:\\users\\aaron karpie\\anaconda3\\lib\\site-packages (from jsonschema!=2.5.0,>=2.4->nbformat>=4.2.0->ipywidgets>=7.0.0->gmaps) (0.17.3)\n",
      "Requirement already satisfied: wcwidth in c:\\users\\aaron karpie\\anaconda3\\lib\\site-packages (from prompt-toolkit!=3.0.0,!=3.0.1,<3.1.0,>=2.0.0->ipython>=5.3.0->gmaps) (0.2.5)\n",
      "Requirement already satisfied: notebook>=4.4.1 in c:\\users\\aaron karpie\\anaconda3\\lib\\site-packages (from widgetsnbextension~=3.5.0->ipywidgets>=7.0.0->gmaps) (6.1.4)\n",
      "Requirement already satisfied: jinja2 in c:\\users\\aaron karpie\\anaconda3\\lib\\site-packages (from notebook>=4.4.1->widgetsnbextension~=3.5.0->ipywidgets>=7.0.0->gmaps) (2.11.2)\n",
      "Requirement already satisfied: argon2-cffi in c:\\users\\aaron karpie\\anaconda3\\lib\\site-packages (from notebook>=4.4.1->widgetsnbextension~=3.5.0->ipywidgets>=7.0.0->gmaps) (20.1.0)\n",
      "Requirement already satisfied: terminado>=0.8.3 in c:\\users\\aaron karpie\\anaconda3\\lib\\site-packages (from notebook>=4.4.1->widgetsnbextension~=3.5.0->ipywidgets>=7.0.0->gmaps) (0.9.1)\n",
      "Requirement already satisfied: nbconvert in c:\\users\\aaron karpie\\anaconda3\\lib\\site-packages (from notebook>=4.4.1->widgetsnbextension~=3.5.0->ipywidgets>=7.0.0->gmaps) (6.0.7)\n",
      "Requirement already satisfied: pyzmq>=17 in c:\\users\\aaron karpie\\anaconda3\\lib\\site-packages (from notebook>=4.4.1->widgetsnbextension~=3.5.0->ipywidgets>=7.0.0->gmaps) (19.0.2)\n",
      "Requirement already satisfied: Send2Trash in c:\\users\\aaron karpie\\anaconda3\\lib\\site-packages (from notebook>=4.4.1->widgetsnbextension~=3.5.0->ipywidgets>=7.0.0->gmaps) (1.5.0)\n",
      "Requirement already satisfied: prometheus-client in c:\\users\\aaron karpie\\anaconda3\\lib\\site-packages (from notebook>=4.4.1->widgetsnbextension~=3.5.0->ipywidgets>=7.0.0->gmaps) (0.8.0)\n",
      "Requirement already satisfied: python-dateutil>=2.1 in c:\\users\\aaron karpie\\anaconda3\\lib\\site-packages (from jupyter-client->ipykernel>=4.5.1->ipywidgets>=7.0.0->gmaps) (2.8.1)\n",
      "Requirement already satisfied: pywin32>=1.0 in c:\\users\\aaron karpie\\anaconda3\\lib\\site-packages (from jupyter-core->nbformat>=4.2.0->ipywidgets>=7.0.0->gmaps) (227)\n",
      "Requirement already satisfied: pywinpty>=0.5 in c:\\users\\aaron karpie\\anaconda3\\lib\\site-packages (from terminado>=0.8.3->notebook>=4.4.1->widgetsnbextension~=3.5.0->ipywidgets>=7.0.0->gmaps) (0.5.7)\n",
      "Requirement already satisfied: cffi>=1.0.0 in c:\\users\\aaron karpie\\anaconda3\\lib\\site-packages (from argon2-cffi->notebook>=4.4.1->widgetsnbextension~=3.5.0->ipywidgets>=7.0.0->gmaps) (1.14.3)\n",
      "Requirement already satisfied: pycparser in c:\\users\\aaron karpie\\anaconda3\\lib\\site-packages (from cffi>=1.0.0->argon2-cffi->notebook>=4.4.1->widgetsnbextension~=3.5.0->ipywidgets>=7.0.0->gmaps) (2.20)\n",
      "Requirement already satisfied: MarkupSafe>=0.23 in c:\\users\\aaron karpie\\anaconda3\\lib\\site-packages (from jinja2->notebook>=4.4.1->widgetsnbextension~=3.5.0->ipywidgets>=7.0.0->gmaps) (1.1.1)\n",
      "Requirement already satisfied: testpath in c:\\users\\aaron karpie\\anaconda3\\lib\\site-packages (from nbconvert->notebook>=4.4.1->widgetsnbextension~=3.5.0->ipywidgets>=7.0.0->gmaps) (0.4.4)\n",
      "Requirement already satisfied: mistune<2,>=0.8.1 in c:\\users\\aaron karpie\\anaconda3\\lib\\site-packages (from nbconvert->notebook>=4.4.1->widgetsnbextension~=3.5.0->ipywidgets>=7.0.0->gmaps) (0.8.4)\n",
      "Requirement already satisfied: jupyterlab-pygments in c:\\users\\aaron karpie\\anaconda3\\lib\\site-packages (from nbconvert->notebook>=4.4.1->widgetsnbextension~=3.5.0->ipywidgets>=7.0.0->gmaps) (0.1.2)\n",
      "Requirement already satisfied: pandocfilters>=1.4.1 in c:\\users\\aaron karpie\\anaconda3\\lib\\site-packages (from nbconvert->notebook>=4.4.1->widgetsnbextension~=3.5.0->ipywidgets>=7.0.0->gmaps) (1.4.3)\n",
      "Requirement already satisfied: defusedxml in c:\\users\\aaron karpie\\anaconda3\\lib\\site-packages (from nbconvert->notebook>=4.4.1->widgetsnbextension~=3.5.0->ipywidgets>=7.0.0->gmaps) (0.6.0)\n",
      "Requirement already satisfied: bleach in c:\\users\\aaron karpie\\anaconda3\\lib\\site-packages (from nbconvert->notebook>=4.4.1->widgetsnbextension~=3.5.0->ipywidgets>=7.0.0->gmaps) (3.2.1)\n",
      "Requirement already satisfied: entrypoints>=0.2.2 in c:\\users\\aaron karpie\\anaconda3\\lib\\site-packages (from nbconvert->notebook>=4.4.1->widgetsnbextension~=3.5.0->ipywidgets>=7.0.0->gmaps) (0.3)\n",
      "Requirement already satisfied: nbclient<0.6.0,>=0.5.0 in c:\\users\\aaron karpie\\anaconda3\\lib\\site-packages (from nbconvert->notebook>=4.4.1->widgetsnbextension~=3.5.0->ipywidgets>=7.0.0->gmaps) (0.5.1)\n",
      "Requirement already satisfied: async-generator in c:\\users\\aaron karpie\\anaconda3\\lib\\site-packages (from nbclient<0.6.0,>=0.5.0->nbconvert->notebook>=4.4.1->widgetsnbextension~=3.5.0->ipywidgets>=7.0.0->gmaps) (1.10)\n",
      "Requirement already satisfied: nest-asyncio in c:\\users\\aaron karpie\\anaconda3\\lib\\site-packages (from nbclient<0.6.0,>=0.5.0->nbconvert->notebook>=4.4.1->widgetsnbextension~=3.5.0->ipywidgets>=7.0.0->gmaps) (1.4.2)\n",
      "Requirement already satisfied: webencodings in c:\\users\\aaron karpie\\anaconda3\\lib\\site-packages (from bleach->nbconvert->notebook>=4.4.1->widgetsnbextension~=3.5.0->ipywidgets>=7.0.0->gmaps) (0.5.1)\n",
      "Requirement already satisfied: packaging in c:\\users\\aaron karpie\\anaconda3\\lib\\site-packages (from bleach->nbconvert->notebook>=4.4.1->widgetsnbextension~=3.5.0->ipywidgets>=7.0.0->gmaps) (20.4)\n",
      "Requirement already satisfied: pyparsing>=2.0.2 in c:\\users\\aaron karpie\\anaconda3\\lib\\site-packages (from packaging->bleach->nbconvert->notebook>=4.4.1->widgetsnbextension~=3.5.0->ipywidgets>=7.0.0->gmaps) (2.4.7)\n"
     ]
    },
    {
     "name": "stderr",
     "output_type": "stream",
     "text": [
      "Enabling notebook extension jupyter-gmaps/extension...\n",
      "      - Validating: ok\n"
     ]
    }
   ],
   "source": [
    "\n",
    "!jupyter nbextension enable --py gmaps\n",
    "!jupyter nbextension enable --py --sys-prefix widgetsnbextension\n",
    "!pip install gmaps\n",
    "!jupyter nbextension enable --py --sys-prefix gmaps\n",
    "# Import API key\n"
   ]
  },
  {
   "cell_type": "code",
   "execution_count": 2,
   "metadata": {},
   "outputs": [],
   "source": [
    "city_df=pd.read_csv('city_data.csv')\n"
   ]
  },
  {
   "cell_type": "code",
   "execution_count": 3,
   "metadata": {},
   "outputs": [
    {
     "data": {
      "text/html": [
       "<div>\n",
       "<style scoped>\n",
       "    .dataframe tbody tr th:only-of-type {\n",
       "        vertical-align: middle;\n",
       "    }\n",
       "\n",
       "    .dataframe tbody tr th {\n",
       "        vertical-align: top;\n",
       "    }\n",
       "\n",
       "    .dataframe thead th {\n",
       "        text-align: right;\n",
       "    }\n",
       "</style>\n",
       "<table border=\"1\" class=\"dataframe\">\n",
       "  <thead>\n",
       "    <tr style=\"text-align: right;\">\n",
       "      <th></th>\n",
       "      <th>City</th>\n",
       "      <th>Latitude</th>\n",
       "      <th>Longitude</th>\n",
       "      <th>Temperature Max</th>\n",
       "      <th>Humidity</th>\n",
       "      <th>Cloudiness</th>\n",
       "      <th>Windspeed</th>\n",
       "      <th>Country</th>\n",
       "      <th>Date</th>\n",
       "    </tr>\n",
       "  </thead>\n",
       "  <tbody>\n",
       "    <tr>\n",
       "      <th>0</th>\n",
       "      <td>Villacarrillo</td>\n",
       "      <td>38.1156</td>\n",
       "      <td>-3.0848</td>\n",
       "      <td>8.84</td>\n",
       "      <td>96</td>\n",
       "      <td>98</td>\n",
       "      <td>1.88</td>\n",
       "      <td>ES</td>\n",
       "      <td>1612226588</td>\n",
       "    </tr>\n",
       "    <tr>\n",
       "      <th>1</th>\n",
       "      <td>Creston</td>\n",
       "      <td>41.0586</td>\n",
       "      <td>-94.3614</td>\n",
       "      <td>-5.00</td>\n",
       "      <td>100</td>\n",
       "      <td>90</td>\n",
       "      <td>2.06</td>\n",
       "      <td>US</td>\n",
       "      <td>1612226588</td>\n",
       "    </tr>\n",
       "    <tr>\n",
       "      <th>2</th>\n",
       "      <td>Herat Province</td>\n",
       "      <td>34.5000</td>\n",
       "      <td>62.0000</td>\n",
       "      <td>5.02</td>\n",
       "      <td>66</td>\n",
       "      <td>0</td>\n",
       "      <td>4.47</td>\n",
       "      <td>AF</td>\n",
       "      <td>1612226588</td>\n",
       "    </tr>\n",
       "    <tr>\n",
       "      <th>3</th>\n",
       "      <td>Tuktoyaktuk</td>\n",
       "      <td>69.4541</td>\n",
       "      <td>-133.0374</td>\n",
       "      <td>-24.00</td>\n",
       "      <td>84</td>\n",
       "      <td>90</td>\n",
       "      <td>4.12</td>\n",
       "      <td>CA</td>\n",
       "      <td>1612226204</td>\n",
       "    </tr>\n",
       "    <tr>\n",
       "      <th>4</th>\n",
       "      <td>Faanui</td>\n",
       "      <td>-16.4833</td>\n",
       "      <td>-151.7500</td>\n",
       "      <td>27.50</td>\n",
       "      <td>76</td>\n",
       "      <td>60</td>\n",
       "      <td>6.56</td>\n",
       "      <td>PF</td>\n",
       "      <td>1612226201</td>\n",
       "    </tr>\n",
       "  </tbody>\n",
       "</table>\n",
       "</div>"
      ],
      "text/plain": [
       "             City  Latitude  Longitude  Temperature Max  Humidity  Cloudiness  \\\n",
       "0   Villacarrillo   38.1156    -3.0848             8.84        96          98   \n",
       "1         Creston   41.0586   -94.3614            -5.00       100          90   \n",
       "2  Herat Province   34.5000    62.0000             5.02        66           0   \n",
       "3     Tuktoyaktuk   69.4541  -133.0374           -24.00        84          90   \n",
       "4          Faanui  -16.4833  -151.7500            27.50        76          60   \n",
       "\n",
       "   Windspeed Country        Date  \n",
       "0       1.88      ES  1612226588  \n",
       "1       2.06      US  1612226588  \n",
       "2       4.47      AF  1612226588  \n",
       "3       4.12      CA  1612226204  \n",
       "4       6.56      PF  1612226201  "
      ]
     },
     "execution_count": 3,
     "metadata": {},
     "output_type": "execute_result"
    }
   ],
   "source": [
    "city_df.head()"
   ]
  },
  {
   "cell_type": "code",
   "execution_count": null,
   "metadata": {},
   "outputs": [],
   "source": []
  },
  {
   "cell_type": "code",
   "execution_count": 4,
   "metadata": {},
   "outputs": [],
   "source": [
    "# Store 'Lat' and 'Lng' into  locations \n",
    "locations=city_df[[\"Latitude\", \"Longitude\"]].astype(float)"
   ]
  },
  {
   "cell_type": "code",
   "execution_count": 5,
   "metadata": {},
   "outputs": [],
   "source": [
    "humidity=city_df[\"Humidity\"].astype(float)\n",
    "humidity_max=city_df[\"Humidity\"]"
   ]
  },
  {
   "cell_type": "code",
   "execution_count": 6,
   "metadata": {},
   "outputs": [
    {
     "data": {
      "application/vnd.jupyter.widget-view+json": {
       "model_id": "4fd496212fad44c1ba596b21430c5525",
       "version_major": 2,
       "version_minor": 0
      },
      "text/plain": [
       "Figure(layout=FigureLayout(height='420px'))"
      ]
     },
     "metadata": {},
     "output_type": "display_data"
    }
   ],
   "source": [
    "fig=gmaps.figure()\n",
    "heat_layer=gmaps.heatmap_layer(locations, weights=humidity, dissipating=False, max_intensity=100, point_radius=1)\n",
    "fig"
   ]
  },
  {
   "cell_type": "code",
   "execution_count": null,
   "metadata": {},
   "outputs": [],
   "source": []
  },
  {
   "cell_type": "code",
   "execution_count": null,
   "metadata": {},
   "outputs": [],
   "source": []
  }
 ],
 "metadata": {
  "kernelspec": {
   "display_name": "Python 3",
   "language": "python",
   "name": "python3"
  },
  "language_info": {
   "codemirror_mode": {
    "name": "ipython",
    "version": 3
   },
   "file_extension": ".py",
   "mimetype": "text/x-python",
   "name": "python",
   "nbconvert_exporter": "python",
   "pygments_lexer": "ipython3",
   "version": "3.8.5"
  }
 },
 "nbformat": 4,
 "nbformat_minor": 4
}
